{
 "cells": [
  {
   "cell_type": "code",
   "execution_count": null,
   "id": "fe20fe5a",
   "metadata": {},
   "outputs": [],
   "source": []
  },
  {
   "cell_type": "code",
   "execution_count": null,
   "id": "6702aea3",
   "metadata": {},
   "outputs": [],
   "source": []
  },
  {
   "cell_type": "code",
   "execution_count": 2,
   "id": "398dd169",
   "metadata": {},
   "outputs": [
    {
     "name": "stdout",
     "output_type": "stream",
     "text": [
      "Enter English Marks75\n",
      "Enter Ismaliat Marks65\n",
      "Enter Maths Marks95\n",
      "Grade A\n"
     ]
    }
   ],
   "source": [
    "eng = int(input(\"Enter English Marks\"));\n",
    "isl = int(input(\"Enter Ismaliat Marks\"));\n",
    "maths = int(input(\"Enter Maths Marks\"));\n",
    "total = 300;\n",
    "percent = (eng + isl + maths)/total*100;\n",
    "if percent < 100 and percent >= 80:\n",
    "    print(\"Grade A+\");\n",
    "elif percent < 80 and percent >= 70: \n",
    "    print(\"Grade A\");\n",
    "elif percent < 70 and percent >= 60:\n",
    "    print(\"Grade B\");\n",
    "elif percent < 60 and percent >= 50:\n",
    "    print(\"Grade C\"); \n",
    "elif percent < 50 and percent >= 40: \n",
    "    print(\"Grade D\"); \n",
    "elif percent < 40 and percent >= 33: \n",
    "    print(\"Grade E\"); \n",
    "elif percent < 33 and percent >= 100:\n",
    "    print(\"You did not write correct percent\");\n",
    "else: \n",
    "    print(\"Fail\");"
   ]
  },
  {
   "cell_type": "code",
   "execution_count": 5,
   "id": "1c6511f7",
   "metadata": {},
   "outputs": [
    {
     "name": "stdout",
     "output_type": "stream",
     "text": [
      "9\n"
     ]
    }
   ],
   "source": [
    "x = 3**2\n",
    "print(x);"
   ]
  },
  {
   "cell_type": "code",
   "execution_count": 6,
   "id": "3818d5fb",
   "metadata": {},
   "outputs": [
    {
     "name": "stdout",
     "output_type": "stream",
     "text": [
      "81\n"
     ]
    }
   ],
   "source": [
    "y = 3**4\n",
    "print(y);"
   ]
  },
  {
   "cell_type": "code",
   "execution_count": 7,
   "id": "6a227d80",
   "metadata": {},
   "outputs": [
    {
     "name": "stdout",
     "output_type": "stream",
     "text": [
      "Hello \n",
      " World\n"
     ]
    }
   ],
   "source": [
    "print(\"Hello \\n World\");"
   ]
  },
  {
   "cell_type": "code",
   "execution_count": 8,
   "id": "5880b5b0",
   "metadata": {},
   "outputs": [
    {
     "name": "stdout",
     "output_type": "stream",
     "text": [
      "Hello \n",
      "World\n"
     ]
    }
   ],
   "source": [
    "print(\"Hello \\nWorld\");"
   ]
  },
  {
   "cell_type": "code",
   "execution_count": 9,
   "id": "3ffcc1d0",
   "metadata": {},
   "outputs": [
    {
     "name": "stdout",
     "output_type": "stream",
     "text": [
      "Hello\n",
      "World\n"
     ]
    }
   ],
   "source": [
    "print(\"Hello\\nWorld\");"
   ]
  },
  {
   "cell_type": "code",
   "execution_count": null,
   "id": "27a7d313",
   "metadata": {},
   "outputs": [],
   "source": []
  }
 ],
 "metadata": {
  "kernelspec": {
   "display_name": "Python 3",
   "language": "python",
   "name": "python3"
  },
  "language_info": {
   "codemirror_mode": {
    "name": "ipython",
    "version": 3
   },
   "file_extension": ".py",
   "mimetype": "text/x-python",
   "name": "python",
   "nbconvert_exporter": "python",
   "pygments_lexer": "ipython3",
   "version": "3.8.8"
  }
 },
 "nbformat": 4,
 "nbformat_minor": 5
}
