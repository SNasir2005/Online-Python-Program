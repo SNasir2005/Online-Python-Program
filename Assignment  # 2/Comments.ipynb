{
 "cells": [
  {
   "cell_type": "code",
   "execution_count": 1,
   "id": "f3332cae",
   "metadata": {},
   "outputs": [
    {
     "name": "stdout",
     "output_type": "stream",
     "text": [
      "[112, 6]\n"
     ]
    }
   ],
   "source": [
    "# Learning list\n",
    "arr = [112,6];\n",
    "print(arr);"
   ]
  },
  {
   "cell_type": "code",
   "execution_count": 2,
   "id": "a9455215",
   "metadata": {},
   "outputs": [
    {
     "name": "stdout",
     "output_type": "stream",
     "text": [
      "Hello World\n"
     ]
    }
   ],
   "source": [
    "\"\"\"we are learning phthon\n",
    "learning list now\"\"\"\n",
    "print(\"Hello World\");"
   ]
  },
  {
   "cell_type": "code",
   "execution_count": 1,
   "id": "5fd1f390",
   "metadata": {},
   "outputs": [
    {
     "name": "stdout",
     "output_type": "stream",
     "text": [
      "Zulqi,Rani,Ehsan,Samina,Billal,Ammar\n"
     ]
    }
   ],
   "source": [
    "name1 = \"Zulqi\";\n",
    "name2 = \"Rani\";\n",
    "name3 = \"Ehsan\";\n",
    "name4 = \"Samina\";\n",
    "name5 = \"Billal\";\n",
    "name6 = \"Ammar\";\n",
    "print(name1+\",\"+name2+ \",\"+name3+\",\"+name4+\",\"+name5+\",\"+name6)"
   ]
  },
  {
   "cell_type": "code",
   "execution_count": 2,
   "id": "2cafd72f",
   "metadata": {},
   "outputs": [
    {
     "name": "stdout",
     "output_type": "stream",
     "text": [
      "['Zulqi', 'Rani', 'Ehsan', 'Samina', 'Billal', 'Ammar']\n"
     ]
    }
   ],
   "source": [
    "# List\n",
    "name = [\"Zulqi\", \"Rani\", \"Ehsan\", \"Samina\", \"Billal\", \"Ammar\"];\n",
    "print(name)"
   ]
  },
  {
   "cell_type": "code",
   "execution_count": 3,
   "id": "ccef5121",
   "metadata": {},
   "outputs": [
    {
     "name": "stdout",
     "output_type": "stream",
     "text": [
      "Zulqi\n"
     ]
    }
   ],
   "source": [
    "print(name[0]);"
   ]
  },
  {
   "cell_type": "code",
   "execution_count": 4,
   "id": "ca1a305f",
   "metadata": {},
   "outputs": [
    {
     "name": "stdout",
     "output_type": "stream",
     "text": [
      "['Zulqi', 'Ali', 'Ehsan', 'Samina', 'Billal', 'Ammar']\n"
     ]
    }
   ],
   "source": [
    "name[1] = \"Ali\"\n",
    "print(name);"
   ]
  },
  {
   "cell_type": "code",
   "execution_count": 5,
   "id": "ea391821",
   "metadata": {},
   "outputs": [
    {
     "name": "stdout",
     "output_type": "stream",
     "text": [
      "['Zulqi', 'Ali', 'Ehsan', 'Samina', 'Billal', 'Ammar', 'Ahmed']\n"
     ]
    }
   ],
   "source": [
    "name.append(\"Ahmed\")\n",
    "print(name);"
   ]
  },
  {
   "cell_type": "raw",
   "id": "23cbbe05",
   "metadata": {},
   "source": []
  },
  {
   "cell_type": "code",
   "execution_count": 1,
   "id": "065f2f30",
   "metadata": {},
   "outputs": [
    {
     "name": "stdout",
     "output_type": "stream",
     "text": [
      "['lion', 12, True, 5.69]\n"
     ]
    }
   ],
   "source": [
    "arr = [\"lion\", 12, True, 5.69]\n",
    "print(arr)"
   ]
  },
  {
   "cell_type": "markdown",
   "id": "c934cc9e",
   "metadata": {},
   "source": []
  },
  {
   "cell_type": "code",
   "execution_count": 1,
   "id": "a2ea0fa8",
   "metadata": {},
   "outputs": [
    {
     "name": "stdout",
     "output_type": "stream",
     "text": [
      "['Zulqi', 'Ali', 'Ehsan', 'Samina', 'Billal', 'Ammar', 'Ahmed']\n"
     ]
    }
   ],
   "source": [
    "# List\n",
    "name = [\"Zulqi\", \"Ali\", \"Ehsan\", \"Samina\", \"Billal\", \"Ammar\", \"Ahmed\"];\n",
    "print(name)"
   ]
  },
  {
   "cell_type": "code",
   "execution_count": 2,
   "id": "95752088",
   "metadata": {},
   "outputs": [
    {
     "data": {
      "text/plain": [
       "['Zulqi', 'Ali', 'Ehsan', 'Samina', 'Billal', 'Ammar', 'Ahmed']"
      ]
     },
     "execution_count": 2,
     "metadata": {},
     "output_type": "execute_result"
    }
   ],
   "source": [
    " name\n",
    "    "
   ]
  },
  {
   "cell_type": "code",
   "execution_count": 5,
   "id": "66f43c75",
   "metadata": {},
   "outputs": [
    {
     "name": "stdout",
     "output_type": "stream",
     "text": [
      "['Zulqi', 'Ali', 'Ehsan', 'Samina', 'Billal', 'Ammar', 'Ahmed', 'lion', 12, True, 5.69]\n"
     ]
    }
   ],
   "source": [
    "# List\n",
    "name = [\"Zulqi\", \"Ali\", \"Ehsan\", \"Samina\", \"Billal\", \"Ammar\", \"Ahmed\"];\n",
    "arr = [\"lion\", 12, True, 5.69];\n",
    "newList = name + arr;\n",
    "print(newList)"
   ]
  },
  {
   "cell_type": "markdown",
   "id": "68a22b31",
   "metadata": {},
   "source": []
  },
  {
   "cell_type": "code",
   "execution_count": 6,
   "id": "6bac0f0a",
   "metadata": {},
   "outputs": [
    {
     "data": {
      "text/plain": [
       "['Zulqi', 'Ali', 'Ehsan', 'Samina', 'Billal', 'Ammar', 'Ahmed']"
      ]
     },
     "execution_count": 6,
     "metadata": {},
     "output_type": "execute_result"
    }
   ],
   "source": [
    "name\n"
   ]
  },
  {
   "cell_type": "code",
   "execution_count": 7,
   "id": "bd838222",
   "metadata": {},
   "outputs": [],
   "source": [
    "name = name.insert(3,\"Rashid\");"
   ]
  },
  {
   "cell_type": "code",
   "execution_count": 10,
   "id": "2064abc2",
   "metadata": {},
   "outputs": [
    {
     "data": {
      "text/plain": [
       "['lion', 12, True, 5.69]"
      ]
     },
     "execution_count": 10,
     "metadata": {},
     "output_type": "execute_result"
    }
   ],
   "source": [
    "arr\n"
   ]
  },
  {
   "cell_type": "code",
   "execution_count": 11,
   "id": "546e17bd",
   "metadata": {},
   "outputs": [],
   "source": [
    "name\n"
   ]
  },
  {
   "cell_type": "code",
   "execution_count": 13,
   "id": "41f70709",
   "metadata": {},
   "outputs": [
    {
     "data": {
      "text/plain": [
       "['lion', 12, True, 5.69]"
      ]
     },
     "execution_count": 13,
     "metadata": {},
     "output_type": "execute_result"
    }
   ],
   "source": [
    " arr\n",
    "    "
   ]
  },
  {
   "cell_type": "code",
   "execution_count": 14,
   "id": "d1103091",
   "metadata": {},
   "outputs": [
    {
     "name": "stdout",
     "output_type": "stream",
     "text": [
      "['lion', 12, 'Raza', True, 5.69]\n"
     ]
    }
   ],
   "source": [
    "arr.insert(2,\"Raza\")\n",
    "print(arr)"
   ]
  },
  {
   "cell_type": "code",
   "execution_count": 15,
   "id": "79495ead",
   "metadata": {},
   "outputs": [
    {
     "name": "stdout",
     "output_type": "stream",
     "text": [
      "['Zulqi', 'Ali', 'Ehsan', 'Samina', 'Billal', 'Ammar', 'Ahmed']\n"
     ]
    }
   ],
   "source": [
    "# List\n",
    "name = [\"Zulqi\", \"Ali\", \"Ehsan\", \"Samina\", \"Billal\", \"Ammar\", \"Ahmed\"];\n",
    "print(name)"
   ]
  },
  {
   "cell_type": "code",
   "execution_count": 16,
   "id": "ca504841",
   "metadata": {},
   "outputs": [
    {
     "data": {
      "text/plain": [
       "['Zulqi', 'Ali', 'Ehsan', 'Samina', 'Billal', 'Ammar', 'Ahmed']"
      ]
     },
     "execution_count": 16,
     "metadata": {},
     "output_type": "execute_result"
    }
   ],
   "source": [
    " name\n",
    "    "
   ]
  },
  {
   "cell_type": "code",
   "execution_count": 17,
   "id": "163555b5",
   "metadata": {},
   "outputs": [
    {
     "name": "stdout",
     "output_type": "stream",
     "text": [
      "['Zulqi', 'Ali', 'Ehsan', 'Rashid', 'Samina', 'Billal', 'Ammar', 'Ahmed']\n"
     ]
    }
   ],
   "source": [
    "name.insert(3,\"Rashid\")\n",
    "print(name)"
   ]
  },
  {
   "cell_type": "markdown",
   "id": "e1f140cf",
   "metadata": {},
   "source": [
    "arr2 = arr[2:4]\n",
    "print(arr2);"
   ]
  },
  {
   "cell_type": "raw",
   "id": "a8033cd9",
   "metadata": {},
   "source": []
  },
  {
   "cell_type": "code",
   "execution_count": 19,
   "id": "d4640b61",
   "metadata": {},
   "outputs": [
    {
     "data": {
      "text/plain": [
       "['lion', 12, 'Raza', True, 5.69]"
      ]
     },
     "execution_count": 19,
     "metadata": {},
     "output_type": "execute_result"
    }
   ],
   "source": [
    " arr\n",
    "    "
   ]
  },
  {
   "cell_type": "code",
   "execution_count": 21,
   "id": "e60b087d",
   "metadata": {},
   "outputs": [
    {
     "data": {
      "text/plain": [
       "['lion', 12, 'Raza', True, 5.69]"
      ]
     },
     "execution_count": 21,
     "metadata": {},
     "output_type": "execute_result"
    }
   ],
   "source": [
    " arr\n",
    "    "
   ]
  },
  {
   "cell_type": "code",
   "execution_count": 22,
   "id": "75a5b4eb",
   "metadata": {},
   "outputs": [
    {
     "name": "stdout",
     "output_type": "stream",
     "text": [
      "['Raza', True]\n"
     ]
    }
   ],
   "source": [
    "arr2 = arr[2:4]\n",
    "print(arr2);"
   ]
  },
  {
   "cell_type": "code",
   "execution_count": 23,
   "id": "a2b84ead",
   "metadata": {},
   "outputs": [
    {
     "data": {
      "text/plain": [
       "['lion', 12, 'Raza', True, 5.69]"
      ]
     },
     "execution_count": 23,
     "metadata": {},
     "output_type": "execute_result"
    }
   ],
   "source": [
    "arr\n"
   ]
  },
  {
   "cell_type": "code",
   "execution_count": 24,
   "id": "f397397b",
   "metadata": {},
   "outputs": [
    {
     "data": {
      "text/plain": [
       "['Raza', True]"
      ]
     },
     "execution_count": 24,
     "metadata": {},
     "output_type": "execute_result"
    }
   ],
   "source": [
    "arr2\n"
   ]
  },
  {
   "cell_type": "code",
   "execution_count": 25,
   "id": "b2e3dbca",
   "metadata": {},
   "outputs": [
    {
     "name": "stdout",
     "output_type": "stream",
     "text": [
      "['Raza', True, 5.69]\n"
     ]
    }
   ],
   "source": [
    "arr3 = arr[2:5]\n",
    "print(arr3);"
   ]
  },
  {
   "cell_type": "code",
   "execution_count": 26,
   "id": "00189865",
   "metadata": {},
   "outputs": [
    {
     "name": "stdout",
     "output_type": "stream",
     "text": [
      "['lion', 12, 'Raza']\n"
     ]
    }
   ],
   "source": [
    "arr4 = arr[:3]\n",
    "print(arr4);"
   ]
  },
  {
   "cell_type": "code",
   "execution_count": 27,
   "id": "9d8825d1",
   "metadata": {},
   "outputs": [
    {
     "name": "stdout",
     "output_type": "stream",
     "text": [
      "['lion', 12, True, 5.69]\n"
     ]
    }
   ],
   "source": [
    "del arr[2]\n",
    "print(arr);"
   ]
  },
  {
   "cell_type": "code",
   "execution_count": 29,
   "id": "863ab055",
   "metadata": {},
   "outputs": [
    {
     "name": "stdout",
     "output_type": "stream",
     "text": [
      "['lion', True, 5.69]\n"
     ]
    }
   ],
   "source": [
    "arr.remove(12)\n",
    "print(arr);"
   ]
  },
  {
   "cell_type": "code",
   "execution_count": 30,
   "id": "f6e60004",
   "metadata": {},
   "outputs": [
    {
     "name": "stdout",
     "output_type": "stream",
     "text": [
      "['lion', True]\n"
     ]
    }
   ],
   "source": [
    "arr.pop()\n",
    "print(arr);"
   ]
  },
  {
   "cell_type": "code",
   "execution_count": 31,
   "id": "411df799",
   "metadata": {},
   "outputs": [
    {
     "name": "stdout",
     "output_type": "stream",
     "text": [
      "['lion']\n"
     ]
    }
   ],
   "source": [
    "arr.pop(True)\n",
    "print(arr);"
   ]
  },
  {
   "cell_type": "code",
   "execution_count": null,
   "id": "3b24be43",
   "metadata": {},
   "outputs": [],
   "source": []
  }
 ],
 "metadata": {
  "kernelspec": {
   "display_name": "Python 3",
   "language": "python",
   "name": "python3"
  },
  "language_info": {
   "codemirror_mode": {
    "name": "ipython",
    "version": 3
   },
   "file_extension": ".py",
   "mimetype": "text/x-python",
   "name": "python",
   "nbconvert_exporter": "python",
   "pygments_lexer": "ipython3",
   "version": "3.8.8"
  }
 },
 "nbformat": 4,
 "nbformat_minor": 5
}
