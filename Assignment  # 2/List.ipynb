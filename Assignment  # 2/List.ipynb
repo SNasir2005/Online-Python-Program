{
 "cells": [
  {
   "cell_type": "code",
   "execution_count": 1,
   "id": "8d0705b4",
   "metadata": {},
   "outputs": [
    {
     "name": "stdout",
     "output_type": "stream",
     "text": [
      "['Zulqi', 'Rani', 'Ehan', 'Samina', 'Bilal']\n"
     ]
    }
   ],
   "source": [
    "# List\n",
    "name = [\"Zulqi\", \"Rani\", \"Ehan\", \"Samina\", \"Bilal\"];\n",
    "print(name) "
   ]
  },
  {
   "cell_type": "code",
   "execution_count": 1,
   "id": "f2cf8216",
   "metadata": {},
   "outputs": [
    {
     "name": "stdout",
     "output_type": "stream",
     "text": [
      "['lion', 12, True, 5.69]\n"
     ]
    }
   ],
   "source": [
    "arr = [\"lion\",12,True,5.69]\n",
    "print(arr)"
   ]
  },
  {
   "cell_type": "code",
   "execution_count": null,
   "id": "3f1628aa",
   "metadata": {},
   "outputs": [],
   "source": []
  }
 ],
 "metadata": {
  "kernelspec": {
   "display_name": "Python 3",
   "language": "python",
   "name": "python3"
  },
  "language_info": {
   "codemirror_mode": {
    "name": "ipython",
    "version": 3
   },
   "file_extension": ".py",
   "mimetype": "text/x-python",
   "name": "python",
   "nbconvert_exporter": "python",
   "pygments_lexer": "ipython3",
   "version": "3.8.8"
  }
 },
 "nbformat": 4,
 "nbformat_minor": 5
}
