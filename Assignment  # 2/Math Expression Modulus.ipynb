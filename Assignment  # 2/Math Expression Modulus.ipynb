{
 "cells": [
  {
   "cell_type": "code",
   "execution_count": 1,
   "id": "d3a4b719",
   "metadata": {},
   "outputs": [
    {
     "name": "stdout",
     "output_type": "stream",
     "text": [
      "3.6363636363636367\n"
     ]
    }
   ],
   "source": [
    "a = (12 - 4) / (2 + 9) * 5;\n",
    "print(a);"
   ]
  },
  {
   "cell_type": "markdown",
   "id": "1d5dc79e",
   "metadata": {},
   "source": [
    "a = ((12 - 4) / (2 + 9) * 5);\n",
    "print(a);"
   ]
  },
  {
   "cell_type": "code",
   "execution_count": 2,
   "id": "aecc68f8",
   "metadata": {},
   "outputs": [
    {
     "name": "stdout",
     "output_type": "stream",
     "text": [
      "3.6363636363636367\n"
     ]
    }
   ],
   "source": [
    "a = ((12 - 4) / (2 + 9) * 5); \n",
    "print(a);"
   ]
  },
  {
   "cell_type": "code",
   "execution_count": 5,
   "id": "2cec56cc",
   "metadata": {},
   "outputs": [
    {
     "name": "stdout",
     "output_type": "stream",
     "text": [
      "1\n"
     ]
    }
   ],
   "source": [
    "x = 10;\n",
    "y = x%3;\n",
    "print(y);"
   ]
  },
  {
   "cell_type": "code",
   "execution_count": 8,
   "id": "6bcfe2fa",
   "metadata": {},
   "outputs": [
    {
     "name": "stdout",
     "output_type": "stream",
     "text": [
      "12\n"
     ]
    }
   ],
   "source": [
    "f = 10;\n",
    "f = 12;\n",
    "print(f);"
   ]
  },
  {
   "cell_type": "code",
   "execution_count": 10,
   "id": "461eadc4",
   "metadata": {},
   "outputs": [
    {
     "name": "stdout",
     "output_type": "stream",
     "text": [
      "7\n"
     ]
    }
   ],
   "source": [
    "g = 5\n",
    "g = g + 2;\n",
    "print(g);"
   ]
  },
  {
   "cell_type": "code",
   "execution_count": 12,
   "id": "da357841",
   "metadata": {},
   "outputs": [
    {
     "name": "stdout",
     "output_type": "stream",
     "text": [
      "6\n"
     ]
    }
   ],
   "source": [
    "a = 3;\n",
    "a+=3;\n",
    "print(a);"
   ]
  },
  {
   "cell_type": "markdown",
   "id": "486984be",
   "metadata": {},
   "source": [
    "a ="
   ]
  },
  {
   "cell_type": "markdown",
   "id": "0b43c0ae",
   "metadata": {},
   "source": [
    "### a = "
   ]
  },
  {
   "cell_type": "code",
   "execution_count": 13,
   "id": "c492dc8a",
   "metadata": {},
   "outputs": [
    {
     "name": "stdout",
     "output_type": "stream",
     "text": [
      "6\n"
     ]
    }
   ],
   "source": [
    "a = 3;\n",
    "a = a+ 3;\n",
    "print(a);"
   ]
  },
  {
   "cell_type": "code",
   "execution_count": 16,
   "id": "10b52922",
   "metadata": {},
   "outputs": [
    {
     "name": "stdout",
     "output_type": "stream",
     "text": [
      "My name is Syed Nasir\n"
     ]
    }
   ],
   "source": [
    "a = \"Syed Nasir\"\n",
    "print( \"My name is \" + a)\n"
   ]
  },
  {
   "cell_type": "code",
   "execution_count": 17,
   "id": "64bea489",
   "metadata": {},
   "outputs": [
    {
     "name": "stdout",
     "output_type": "stream",
     "text": [
      "Allow for Ride\n"
     ]
    }
   ],
   "source": [
    " gender = \"male\"\n",
    "if gender == \"male\":\n",
    "   print(\"Allow for Ride\");\n"
   ]
  },
  {
   "cell_type": "code",
   "execution_count": 24,
   "id": "82a7157e",
   "metadata": {},
   "outputs": [
    {
     "name": "stdout",
     "output_type": "stream",
     "text": [
      "Rok LO\n"
     ]
    }
   ],
   "source": [
    "gender = \"female\"\n",
    "if gender == \"male\":\n",
    "    print(\"Allow for Ride\");\n",
    "else:\n",
    "    print(\"Rok LO\");"
   ]
  },
  {
   "cell_type": "code",
   "execution_count": 27,
   "id": "e0446e94",
   "metadata": {},
   "outputs": [
    {
     "name": "stdout",
     "output_type": "stream",
     "text": [
      "Allow for Ride\n"
     ]
    }
   ],
   "source": [
    "gender = \"female\"\n",
    "if gender != \"male\":\n",
    "    print(\"Allow for Ride\");\n",
    "else:\n",
    "    print(\"Rok LO\");"
   ]
  },
  {
   "cell_type": "code",
   "execution_count": null,
   "id": "f5e313bb",
   "metadata": {},
   "outputs": [],
   "source": []
  },
  {
   "cell_type": "markdown",
   "id": "1d009d34",
   "metadata": {},
   "source": [
    "age = 14;\n",
    "gender = \"female\";\n",
    "if age > 18"
   ]
  },
  {
   "cell_type": "code",
   "execution_count": 28,
   "id": "0bd82ad4",
   "metadata": {},
   "outputs": [],
   "source": [
    "age = 14;\n",
    "gender = \"female\";\n",
    "if age > 18 or gender == \"male\":\n",
    "    print(\"Allow for Ride\");"
   ]
  },
  {
   "cell_type": "code",
   "execution_count": null,
   "id": "b25d636d",
   "metadata": {},
   "outputs": [],
   "source": []
  }
 ],
 "metadata": {
  "kernelspec": {
   "display_name": "Python 3",
   "language": "python",
   "name": "python3"
  },
  "language_info": {
   "codemirror_mode": {
    "name": "ipython",
    "version": 3
   },
   "file_extension": ".py",
   "mimetype": "text/x-python",
   "name": "python",
   "nbconvert_exporter": "python",
   "pygments_lexer": "ipython3",
   "version": "3.8.8"
  }
 },
 "nbformat": 4,
 "nbformat_minor": 5
}
