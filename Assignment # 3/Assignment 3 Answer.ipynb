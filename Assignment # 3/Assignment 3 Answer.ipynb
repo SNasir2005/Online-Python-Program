{
 "cells": [
  {
   "cell_type": "code",
   "execution_count": 4,
   "id": "3c2af201",
   "metadata": {},
   "outputs": [
    {
     "name": "stdout",
     "output_type": "stream",
     "text": [
      "Twinkle, twinkle, little star, \n",
      "\tHow I wonder what you are! \n",
      "\t\tUp above the world so high, \n",
      "\t\tLike a diamond in the sky. \n",
      "Twinkle, twinkle, little star, \n",
      "\tHow I wonder what you are!\n"
     ]
    }
   ],
   "source": [
    "print(\"Twinkle, twinkle, little star, \\n\\tHow I wonder what you are! \\n\\t\\tUp above the world so high, \\n\\t\\tLike a diamond in the sky. \\nTwinkle, twinkle, little star, \\n\\tHow I wonder what you are!\")\n"
   ]
  },
  {
   "cell_type": "code",
   "execution_count": 8,
   "id": "0c860f4d",
   "metadata": {},
   "outputs": [
    {
     "name": "stdout",
     "output_type": "stream",
     "text": [
      "C:\\ProgramData\\Anaconda3\\python.exe\n",
      "3.8.8 (default, Apr 13 2021, 15:08:03) [MSC v.1916 64 bit (AMD64)]\n",
      "sys.version_info(major=3, minor=8, micro=8, releaselevel='final', serial=0)\n"
     ]
    }
   ],
   "source": [
    "import sys\n",
    "print(sys.executable)\n",
    "print(sys.version)\n",
    "print(sys.version_info)"
   ]
  },
  {
   "cell_type": "code",
   "execution_count": 10,
   "id": "ea8ea031",
   "metadata": {},
   "outputs": [
    {
     "name": "stdout",
     "output_type": "stream",
     "text": [
      "Current date and time : \n",
      "2021-10-23 05:02:42\n"
     ]
    }
   ],
   "source": [
    "import datetime\n",
    "now = datetime.datetime.now()\n",
    "print (\"Current date and time : \")\n",
    "print (now.strftime(\"%Y-%m-%d %H:%M:%S\"))"
   ]
  },
  {
   "cell_type": "code",
   "execution_count": 1,
   "id": "99346b23",
   "metadata": {},
   "outputs": [
    {
     "name": "stdout",
     "output_type": "stream",
     "text": [
      "Input the radius of the circle : 6\n",
      "The area of the circle with radius 6.0 is: 113.09733552923255\n"
     ]
    }
   ],
   "source": [
    "from math import pi\n",
    "radius = float(input (\"Input the radius of the circle : \"))\n",
    "print (\"The area of the circle with radius \" + str(radius) + \" is: \" + str(pi * radius**2))"
   ]
  },
  {
   "cell_type": "code",
   "execution_count": 2,
   "id": "5bfd6583",
   "metadata": {},
   "outputs": [
    {
     "name": "stdout",
     "output_type": "stream",
     "text": [
      "Input a word to reverse: Hello\n",
      "olleH\n",
      "\n"
     ]
    }
   ],
   "source": [
    "word = input(\"Input a word to reverse: \")\n",
    "\n",
    "for char in range(len(word) - 1, -1, -1):\n",
    "  print(word[char], end=\"\")\n",
    "print(\"\\n\")"
   ]
  },
  {
   "cell_type": "code",
   "execution_count": 3,
   "id": "a8a6c8af",
   "metadata": {},
   "outputs": [
    {
     "name": "stdout",
     "output_type": "stream",
     "text": [
      "Enter first number:6\n",
      "Enter second number:8\n",
      "14\n"
     ]
    }
   ],
   "source": [
    "a = int(input(\"Enter first number:\"))\n",
    "b = int(input(\"Enter second number:\"))\n",
    "sum = a+b\n",
    "print(sum)"
   ]
  },
  {
   "cell_type": "code",
   "execution_count": 5,
   "id": "edf0aaae",
   "metadata": {},
   "outputs": [
    {
     "name": "stdout",
     "output_type": "stream",
     "text": [
      "Enter English Marks89\n",
      "Enter Ismaliat Marks78\n",
      "Enter Maths Marks98\n",
      "Enter Phyics Marks87\n",
      "Enter Chemistry Marks79\n",
      "Grade A+\n"
     ]
    }
   ],
   "source": [
    "eng = int(input(\"Enter English Marks\"));\n",
    "isl = int(input(\"Enter Ismaliat Marks\"));\n",
    "maths = int(input(\"Enter Maths Marks\"));\n",
    "physics = int(input(\"Enter Phyics Marks\"));\n",
    "chemis = int(input(\"Enter Chemistry Marks\"));\n",
    "total = 500;\n",
    "percent = (eng + isl + maths + physics + chemis)/total*100;\n",
    "if percent < 100 and percent >= 80:\n",
    "    print(\"Grade A+\");\n",
    "elif percent < 80 and percent >= 70: \n",
    "    print(\"Grade B\");\n",
    "elif percent < 60 and percent >= 50:\n",
    "    print(\"Grade C\"); \n",
    "elif percent < 50 and percent >= 40: \n",
    "    print(\"Grade D\"); \n",
    "elif percent < 40 and percent >= 33: \n",
    "    print(\"Grade E\"); \n",
    "elif percent < 33 and percent >= 100:\n",
    "    print(\"You did not write correct percent\");\n",
    "else: \n",
    "    print(\"Fail\");"
   ]
  },
  {
   "cell_type": "code",
   "execution_count": 3,
   "id": "abbd5256",
   "metadata": {},
   "outputs": [
    {
     "name": "stdout",
     "output_type": "stream",
     "text": [
      "Enter a number: 7\n",
      "This is an odd number.\n"
     ]
    }
   ],
   "source": [
    "num = int(input(\"Enter a number: \"))\n",
    "mod = num % 2\n",
    "if mod > 0:\n",
    "    print(\"This is an odd number.\")\n",
    "else:\n",
    "    print(\"This is an even number.\")"
   ]
  },
  {
   "cell_type": "code",
   "execution_count": 4,
   "id": "1e97bbbf",
   "metadata": {},
   "outputs": [
    {
     "name": "stdout",
     "output_type": "stream",
     "text": [
      "Length of numbers =  5\n",
      "Length of fruits =  3\n",
      "Length of mixed list =  5\n"
     ]
    }
   ],
   "source": [
    "# List with integers\n",
    "numbers = [1, 2, 3, 4, 5]\n",
    "# List with string\n",
    "fruits = [\"apple\", \"orange\", \"grapes\"]\n",
    "# List with mixed data type\n",
    "mixedlist = [1, \"Ninja\", 55.22, False,\"a\"]\n",
    "\n",
    "print(\"Length of numbers = \", len(numbers))\n",
    "print(\"Length of fruits = \", len(fruits))\n",
    "print(\"Length of mixed list = \", len(mixedlist))"
   ]
  },
  {
   "cell_type": "code",
   "execution_count": 5,
   "id": "6e3840f5",
   "metadata": {},
   "outputs": [
    {
     "name": "stdout",
     "output_type": "stream",
     "text": [
      "38\n",
      "48\n"
     ]
    }
   ],
   "source": [
    "numbers = [1,8,10,4,5,1,4,5] \n",
    "Sum = sum(numbers) \n",
    "print(Sum)  \n",
    "Sum = sum(numbers, 10) \n",
    "print(Sum)"
   ]
  },
  {
   "cell_type": "code",
   "execution_count": 6,
   "id": "0195e1ad",
   "metadata": {},
   "outputs": [
    {
     "name": "stdout",
     "output_type": "stream",
     "text": [
      "Largest number in the list is: 40\n"
     ]
    }
   ],
   "source": [
    "list = [1, 10, 40, 36, 16]\n",
    "list.sort()\n",
    "print(\"Largest number in the list is:\", list[-1])"
   ]
  },
  {
   "cell_type": "code",
   "execution_count": 7,
   "id": "75173806",
   "metadata": {},
   "outputs": [
    {
     "name": "stdout",
     "output_type": "stream",
     "text": [
      "1\n",
      "1\n",
      "2\n",
      "3\n"
     ]
    }
   ],
   "source": [
    "a = [1, 1, 2, 3, 5, 8, 13, 21, 34, 55, 89]\n",
    "\n",
    "for b in a:\n",
    "\n",
    "    if b < 5:\n",
    "\n",
    "        print(b)"
   ]
  },
  {
   "cell_type": "code",
   "execution_count": null,
   "id": "93dc0529",
   "metadata": {},
   "outputs": [],
   "source": []
  }
 ],
 "metadata": {
  "kernelspec": {
   "display_name": "Python 3",
   "language": "python",
   "name": "python3"
  },
  "language_info": {
   "codemirror_mode": {
    "name": "ipython",
    "version": 3
   },
   "file_extension": ".py",
   "mimetype": "text/x-python",
   "name": "python",
   "nbconvert_exporter": "python",
   "pygments_lexer": "ipython3",
   "version": "3.8.8"
  }
 },
 "nbformat": 4,
 "nbformat_minor": 5
}
