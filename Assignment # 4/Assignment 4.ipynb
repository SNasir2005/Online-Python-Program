{
 "cells": [
  {
   "cell_type": "code",
   "execution_count": 1,
   "id": "de8c7b8a",
   "metadata": {},
   "outputs": [
    {
     "name": "stdout",
     "output_type": "stream",
     "text": [
      "Enter your first number: 65\n",
      "Enter your second number: 67\n",
      "65 + 67 = \n",
      "132\n",
      "65 - 67 = \n",
      "-2\n",
      "65 * 67 = \n",
      "4355\n",
      "65 / 67 = \n",
      "0.9701492537313433\n",
      "\n",
      "Please type in the math operation you would like to complete:\n",
      "+ for addition\n",
      "- for subtraction\n",
      "* for multiplication\n",
      "/ for division\n",
      "** for power\n",
      "% for modulo\n",
      "*\n",
      "Enter your first number: 45\n",
      "Enter your second number: 6\n",
      "45 * 6 = \n",
      "270\n",
      "\n",
      "Welcome to Calculator\n",
      "\n"
     ]
    }
   ],
   "source": [
    "# 1) Make a Calcutor using Python with addition, substration, Multiplication, division and power.\n",
    "\n",
    "number_1 = int(input('Enter your first number: '))\n",
    "number_2 = int(input('Enter your second number: '))\n",
    "\n",
    "# Addition\n",
    "print('{} + {} = '.format(number_1, number_2))\n",
    "print(number_1 + number_2)\n",
    "\n",
    "# Subtraction\n",
    "print('{} - {} = '.format(number_1, number_2))\n",
    "print(number_1 - number_2)\n",
    "\n",
    "# Multiplication\n",
    "print('{} * {} = '.format(number_1, number_2))\n",
    "print(number_1 * number_2)\n",
    "\n",
    "# Division\n",
    "print('{} / {} = '.format(number_1, number_2))\n",
    "print(number_1 / number_2)\n",
    "\n",
    "# Add conditional statement\n",
    "'''\n",
    "Please type in the math operation you would like to complete:\n",
    "+ for addition\n",
    "- for subtraction\n",
    "* for multiplication\n",
    "/ for division\n",
    "'''\n",
    "# add some conditional statements elif statements and the else statement\n",
    "operation = input('''\n",
    "Please type in the math operation you would like to complete:\n",
    "+ for addition\n",
    "- for subtraction\n",
    "* for multiplication\n",
    "/ for division\n",
    "** for power\n",
    "% for modulo\n",
    "''')\n",
    "\n",
    "number_1 = int(input('Enter your first number: '))\n",
    "number_2 = int(input('Enter your second number: '))\n",
    "\n",
    "if operation == '+':\n",
    "    print('{} + {} = '.format(number_1, number_2))\n",
    "    print(number_1 + number_2)\n",
    "\n",
    "elif operation == '-':\n",
    "    print('{} - {} = '.format(number_1, number_2))\n",
    "    print(number_1 - number_2)\n",
    "\n",
    "elif operation == '*':\n",
    "    print('{} * {} = '.format(number_1, number_2))\n",
    "    print(number_1 * number_2)\n",
    "\n",
    "elif operation == '/':\n",
    "    print('{} / {} = '.format(number_1, number_2))\n",
    "    print(number_1 / number_2)\n",
    "\n",
    "else:\n",
    "    print('You have not typed a valid operator, please run the program again.')\n",
    "\n",
    "def welcome():\n",
    "    print('''\n",
    "Welcome to Calculator\n",
    "''')\n",
    "...\n",
    "welcome()\n",
    "\n"
   ]
  },
  {
   "cell_type": "code",
   "execution_count": 2,
   "id": "73c38438",
   "metadata": {},
   "outputs": [
    {
     "name": "stdout",
     "output_type": "stream",
     "text": [
      "4\n"
     ]
    }
   ],
   "source": [
    "# 2) Write a program to sheck if there is any numeric key in list using for loop\n",
    "\n",
    "list = [\"abc\", \"def\", 4, \"ghi\"] \n",
    "for x in list: \n",
    "    if type(x) == int: \n",
    "        print(x)\n"
   ]
  },
  {
   "cell_type": "code",
   "execution_count": 3,
   "id": "9e77524d",
   "metadata": {},
   "outputs": [
    {
     "name": "stdout",
     "output_type": "stream",
     "text": [
      "{0: 10, 1: 20}\n",
      "{0: 10, 1: 20, 2: 30}\n"
     ]
    }
   ],
   "source": [
    "# 3) Write a Python script to add a key to a dictionary.\n",
    "\n",
    "c = {0:10, 1:20}\n",
    "print(c)\n",
    "c.update({2:30})\n",
    "print(c)\n"
   ]
  },
  {
   "cell_type": "code",
   "execution_count": 4,
   "id": "87b4d564",
   "metadata": {},
   "outputs": [
    {
     "data": {
      "text/plain": [
       "62"
      ]
     },
     "execution_count": 4,
     "metadata": {},
     "output_type": "execute_result"
    }
   ],
   "source": [
    "# 4) Write a Python program to sum all the numeric items in a dictionary.\n",
    "\n",
    "d = {'key1':1,'key2':14,'key3':47}\n",
    "sum(d.values())"
   ]
  },
  {
   "cell_type": "code",
   "execution_count": 6,
   "id": "430e2c82",
   "metadata": {},
   "outputs": [
    {
     "name": "stdout",
     "output_type": "stream",
     "text": [
      "2 3 4 5 "
     ]
    }
   ],
   "source": [
    "# 5) Write a program to identify duplicate values from list.\n",
    "\n",
    "l=[1,2,3,4,5,2,3,4,7,9,5]\n",
    "l1=[]\n",
    "for i in l:\n",
    "    if i not in l1:\n",
    "        l1.append(i)\n",
    "    else:\n",
    "        print(i,end=' ')\n"
   ]
  },
  {
   "cell_type": "code",
   "execution_count": 7,
   "id": "3e6b5d45",
   "metadata": {},
   "outputs": [
    {
     "name": "stdout",
     "output_type": "stream",
     "text": [
      "Key is present in the dictionary\n",
      "Key is not present in the dictionary\n"
     ]
    }
   ],
   "source": [
    "# 6) Write a Python script to check if a given key already exists in a dictionary\n",
    "\n",
    "d = {1: 10, 2: 20, 3: 30, 4: 40, 5: 50, 6: 60}\n",
    "def is_key_present(x):\n",
    "  if x in d:\n",
    "      print('Key is present in the dictionary')\n",
    "  else:\n",
    "      print('Key is not present in the dictionary')\n",
    "is_key_present(5)\n",
    "is_key_present(9)\n"
   ]
  },
  {
   "cell_type": "code",
   "execution_count": null,
   "id": "d7a62d92",
   "metadata": {},
   "outputs": [],
   "source": []
  }
 ],
 "metadata": {
  "kernelspec": {
   "display_name": "Python 3",
   "language": "python",
   "name": "python3"
  },
  "language_info": {
   "codemirror_mode": {
    "name": "ipython",
    "version": 3
   },
   "file_extension": ".py",
   "mimetype": "text/x-python",
   "name": "python",
   "nbconvert_exporter": "python",
   "pygments_lexer": "ipython3",
   "version": "3.8.8"
  }
 },
 "nbformat": 4,
 "nbformat_minor": 5
}
