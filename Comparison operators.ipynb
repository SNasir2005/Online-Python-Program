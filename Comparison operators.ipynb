{
 "cells": [
  {
   "cell_type": "code",
   "execution_count": 1,
   "id": "6e470427",
   "metadata": {},
   "outputs": [
    {
     "name": "stdout",
     "output_type": "stream",
     "text": [
      "Enter age18\n",
      "Enter gendermale\n",
      "DONOT Allow\n"
     ]
    }
   ],
   "source": [
    "age = int(input(\"Enter age\"));\n",
    "gender = input(\"Enter gender\");\n",
    "if age > 18 and gender == \"male\":\n",
    "    print(\"Allow\");\n",
    "else:\n",
    "    print(\"DONOT Allow\");"
   ]
  },
  {
   "cell_type": "code",
   "execution_count": 2,
   "id": "276264d0",
   "metadata": {},
   "outputs": [
    {
     "name": "stdout",
     "output_type": "stream",
     "text": [
      "Enter age18\n",
      "Enter gendermale\n",
      "Allow\n"
     ]
    }
   ],
   "source": [
    "age = int(input(\"Enter age\"));\n",
    "gender = input(\"Enter gender\");\n",
    "if age >= 18 and gender == \"male\":\n",
    "    print(\"Allow\");\n",
    "else:\n",
    "    print(\"DONOT Allow\");"
   ]
  },
  {
   "cell_type": "code",
   "execution_count": 1,
   "id": "a83d5256",
   "metadata": {},
   "outputs": [
    {
     "name": "stdout",
     "output_type": "stream",
     "text": [
      "Enter age15\n",
      "Enter gendermale\n",
      "DONOT Allow\n"
     ]
    }
   ],
   "source": [
    "age = int(input(\"Enter age\"));\n",
    "gender = input(\"Enter gender\");\n",
    "if age >= 18 and gender == \"male\":\n",
    "    print(\"Allow\");\n",
    "else:\n",
    "    print(\"DONOT Allow\");"
   ]
  },
  {
   "cell_type": "code",
   "execution_count": null,
   "id": "6665f50a",
   "metadata": {},
   "outputs": [],
   "source": []
  }
 ],
 "metadata": {
  "kernelspec": {
   "display_name": "Python 3",
   "language": "python",
   "name": "python3"
  },
  "language_info": {
   "codemirror_mode": {
    "name": "ipython",
    "version": 3
   },
   "file_extension": ".py",
   "mimetype": "text/x-python",
   "name": "python",
   "nbconvert_exporter": "python",
   "pygments_lexer": "ipython3",
   "version": "3.8.8"
  }
 },
 "nbformat": 4,
 "nbformat_minor": 5
}
