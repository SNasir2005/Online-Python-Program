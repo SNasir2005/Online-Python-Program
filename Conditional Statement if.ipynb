{
 "cells": [
  {
   "cell_type": "code",
   "execution_count": 1,
   "id": "128b40a7",
   "metadata": {},
   "outputs": [
    {
     "name": "stdout",
     "output_type": "stream",
     "text": [
      "Rok LO\n"
     ]
    }
   ],
   "source": [
    "age = 14;\n",
    "gender = \"female\";\n",
    "if age > 18 or gender == \"male\":\n",
    "    print(\"Allow for Ride\");\n",
    "else:\n",
    "    print(\"Rok LO\");"
   ]
  },
  {
   "cell_type": "markdown",
   "id": "bb69aad2",
   "metadata": {},
   "source": [
    "age"
   ]
  },
  {
   "cell_type": "markdown",
   "id": "6eb824e7",
   "metadata": {},
   "source": [
    "# age = 14;\n",
    "gender = \"female\";\n",
    "if age >"
   ]
  },
  {
   "cell_type": "code",
   "execution_count": 2,
   "id": "a7fa6d4b",
   "metadata": {},
   "outputs": [
    {
     "name": "stdout",
     "output_type": "stream",
     "text": [
      "Allow for Ride\n"
     ]
    }
   ],
   "source": [
    "age = 14;\n",
    "gender = \"female\";\n",
    "if age > 10 or gender == \"male\":\n",
    "    print(\"Allow for Ride\");\n",
    "else:\n",
    "    print(\"Rok LO\");"
   ]
  },
  {
   "cell_type": "code",
   "execution_count": null,
   "id": "280da0b0",
   "metadata": {},
   "outputs": [],
   "source": []
  }
 ],
 "metadata": {
  "kernelspec": {
   "display_name": "Python 3",
   "language": "python",
   "name": "python3"
  },
  "language_info": {
   "codemirror_mode": {
    "name": "ipython",
    "version": 3
   },
   "file_extension": ".py",
   "mimetype": "text/x-python",
   "name": "python",
   "nbconvert_exporter": "python",
   "pygments_lexer": "ipython3",
   "version": "3.8.8"
  }
 },
 "nbformat": 4,
 "nbformat_minor": 5
}
